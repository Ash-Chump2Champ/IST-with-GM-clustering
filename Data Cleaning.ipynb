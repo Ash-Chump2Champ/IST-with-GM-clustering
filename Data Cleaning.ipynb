{
 "cells": [
  {
   "cell_type": "code",
   "execution_count": 1,
   "id": "05c0a75d",
   "metadata": {},
   "outputs": [],
   "source": [
    "import pandas as pd\n",
    "import numpy as np\n",
    "import seaborn as sns\n",
    "import matplotlib.pyplot as plt\n",
    "from sklearn.impute import SimpleImputer\n",
    "\n",
    "import plotly.express as px\n",
    "import plotly.graph_objects as go\n",
    "import plotly.figure_factory as ff\n",
    "from plotly.subplots import make_subplots\n",
    "\n",
    "from matplotlib import colors\n",
    "from matplotlib.colors import ListedColormap\n",
    "import matplotlib.cm as cm\n",
    "import matplotlib.style as style\n",
    "\n",
    "from sklearn.preprocessing import LabelEncoder\n",
    "from sklearn.preprocessing import StandardScaler\n",
    "from sklearn.decomposition import PCA\n",
    "\n",
    "from yellowbrick.cluster import KElbowVisualizer\n",
    "from sklearn.cluster import AgglomerativeClustering\n",
    "import scipy.cluster.hierarchy as shc\n",
    "from matplotlib import pyplot\n",
    "\n",
    "from sklearn.datasets import make_blobs\n",
    "from sklearn.cluster import KMeans\n",
    "from sklearn.metrics import silhouette_samples, silhouette_score\n",
    "\n",
    "import numpy as np\n",
    "from kmodes.kmodes import KModes"
   ]
  },
  {
   "cell_type": "code",
   "execution_count": 2,
   "id": "9a3d5caa",
   "metadata": {},
   "outputs": [
    {
     "name": "stderr",
     "output_type": "stream",
     "text": [
      "C:\\Users\\Joseash\\AppData\\Local\\Temp\\ipykernel_7652\\3051754986.py:1: DtypeWarning: Columns (31) have mixed types. Specify dtype option on import or set low_memory=False.\n",
      "  data = pd.read_csv('dataset/IST_corrected.csv')\n"
     ]
    }
   ],
   "source": [
    "data = pd.read_csv('dataset/IST_corrected.csv')"
   ]
  },
  {
   "cell_type": "markdown",
   "id": "f51fe437",
   "metadata": {},
   "source": [
    "# <p style=\"background-color:#101820ff;font-family:newtimeroman;color:#f2fa4cff;font-size:150%;text-align:center;border-radius:10px 10px;\">Dataset Variable to Use</p>\n",
    "\n",
    "\n",
    "#### Age in Years\n",
    "* a. Age in years rounded = AGE\n",
    "\n",
    "#### Gender of patient\n",
    "* a. Gender = SEX\n",
    "\n",
    "#### Deficiences Noted\n",
    "* a.Face Deficit = RDEF1\n",
    "* b.Arm or Hand Deficit = RDEF2\n",
    "* c.Leg or Foot Deficiency = RDEF3 \n",
    "* d.Dysphasia = RDEF4\n",
    "* e.Hemianophia = RDEF5\n",
    "* f.Visuospatial Disorder = RDEF6\n",
    "* g.Brainstem/cerebellar signs = RDEF7\n",
    "* h.Other deficit (Y/N/C=can't assess) = RDEF8\n",
    "\n",
    "#### Other Observed Upon Initial Diagnosis\n",
    "* a. Conscious state at randomisation (F - fully alert, D - drowsy, U -unconscious) = RCONSC\n",
    "* b. Infarct visible on CT (Y/N) = RVISINF\n",
    "* c. Systolic blood pressure at randomisation (mmHg) = RSBP\n",
    "\n",
    "##### Final diagnosis of initial event\n",
    "* a.Ischaemic stroke = DDIAGISC\n",
    "* b.Haemorrhagic stroke = DDIAGHA\n",
    "\n",
    "##### Stroke Subtype\n",
    "* a.Partial anterior circulation syndrome = STYPE\n",
    "* b.lacunar syndrome = STYPE\n",
    "* c.Posterior circulation syndrome = STYPE\n",
    "* d.Total anterior circulation syndrome = STYPE\n",
    "* e.Other = STYPE\n",
    "\n",
    "##### Other events within 14 days:\n",
    "* a.Pulmonary embolism = DPE\n",
    "* b.Indicator of deep vein thrombosis on discharge form = DVT14\n",
    "* c.Ischaemic recurrent stroke = DRSISC\n",
    "* d.Haemorrhagic recurrent stroke = DRSH\n",
    "\n",
    "##### Medication within 14 days:\n",
    "* a. Aspirin given for 14 days or till death or discharge (Y/N) = DASP14\n",
    "* b. Other anticoagulants (Y/N) = DOAC\n",
    "* c. Given Glycerol or Matinol = Glycerol_or_Manitol = DGORM\n",
    "* d. Medium dose heparin given for 14 days or till death/discharge (Y/N) = DMH14\n",
    "</br>\n",
    "* e. Heparin within 24 hours prior to randomisation (Y/N) = RHEP24\n",
    "* f. Aspirin within 3 days prior to randomisation (Y/N) = RASP3\n",
    "* g. On antiplatelet drugs = FAP\n",
    "* h. On anticoagulants = FOAC\n",
    "* g. Discharged on long term aspirin (Y/N) = DASPLT\n",
    "\n",
    "##### Place of resident at 6 months:\n",
    "* Place of residance at 6 month follow-up (A-Home/B-Relatives home/C-Residential care/D-Nursing home/E-Other hospital departments/UUnknown) = FPLACE\n",
    "\n",
    "##### Medical Operations/Surgeries:\n",
    "* a.Haemodillution = DHAEMD\n",
    "* b.Carotid Surgery = DCAREND\n",
    "* c.Thrombolysis = DTHROMB\n",
    "\n",
    "##### Target Variables\n",
    "* a.Six month outcome (1-dead/2-dependent/3-not recovered/4-recovered/8 or 9 – missing status = OCCODE\n",
    "* b.Discharged alive from hospital = DALIVE\n",
    "\n",
    "##### Other Data\n",
    "* a.Compliant for aspirin = CMPLASP\n",
    "* b.Compliant for heparin = CMPLHEP\n",
    "* c.Time of death or censoring in days = TD"
   ]
  },
  {
   "cell_type": "markdown",
   "id": "f40bafe6",
   "metadata": {},
   "source": [
    "# <p style=\"background-color:#101820ff;font-family:newtimeroman;color:#f2fa4cff;font-size:150%;text-align:center;border-radius:10px 10px;\">Dataset Cleaning</p>\n"
   ]
  },
  {
   "cell_type": "markdown",
   "id": "65d608be",
   "metadata": {},
   "source": [
    "# Initial Cleaning\n",
    "* Select all the data to be use\n",
    "* Select all patients that were released alive and have live past 14 days\n",
    "* Filling empty or left blank values with 'Unknown'"
   ]
  },
  {
   "cell_type": "code",
   "execution_count": 3,
   "id": "4871713f",
   "metadata": {},
   "outputs": [],
   "source": [
    "# Choosing the columns or variables for data analysis\n",
    "data = data[['AGE','SEX','RCONSC','RSBP','RVISINF','RDEF1','RDEF2','RDEF3','RDEF4','RDEF5','RDEF6','RDEF7','RDEF8',\n",
    "            'DDIAGISC','DDIAGHA','STYPE','DPE','DVT14','DRSISC','DRSH','DASP14','DOAC','DGORM','DMH14','RHEP24',\n",
    "            'RASP3', 'FAP','FOAC','DASPLT','FPLACE','DHAEMD','DCAREND', 'DTHROMB', 'OCCODE','DALIVE','CMPLASP','CMPLHEP','TD']]"
   ]
  },
  {
   "cell_type": "code",
   "execution_count": 4,
   "id": "584053bf",
   "metadata": {},
   "outputs": [],
   "source": [
    "# Selecting only patients who were discharged alive within 14 days\n",
    "\n",
    "data = data[data['DALIVE'] == 'Y']\n",
    "\n",
    "# Ensuring that all included patients are alive after 14 days\n",
    "data = data[data['TD'] > 14]"
   ]
  },
  {
   "cell_type": "code",
   "execution_count": 5,
   "id": "34c8111b",
   "metadata": {},
   "outputs": [],
   "source": [
    "# Dropping TD since we won't need it in clustering\n",
    "data.drop(['TD'],axis=1,inplace=True)"
   ]
  },
  {
   "cell_type": "code",
   "execution_count": 6,
   "id": "a8ce1b50",
   "metadata": {},
   "outputs": [],
   "source": [
    "has_missing_values = ['DDIAGISC','DDIAGHA','DRSISC','DASP14','DOAC','DGORM','DMH14','RHEP24','RASP3','DASPLT','DHAEMD','DCAREND','DTHROMB']\n",
    "unknown_values = ['FPLACE','FOAC','FAP']\n",
    "\n",
    "# Filling variables that are left blank with 'N' or 'U'\n",
    "for i in has_missing_values:\n",
    "    data[i].fillna('N', inplace=True)\n",
    "\n",
    "for j in unknown_values:\n",
    "    data[j].fillna('Unknown', inplace=True)"
   ]
  },
  {
   "cell_type": "code",
   "execution_count": 18,
   "id": "513075fb",
   "metadata": {},
   "outputs": [],
   "source": [
    "# Declaring new variable\n",
    "data_selected = data"
   ]
  },
  {
   "cell_type": "code",
   "execution_count": 19,
   "id": "2f624e54",
   "metadata": {},
   "outputs": [
    {
     "name": "stdout",
     "output_type": "stream",
     "text": [
      "<class 'pandas.core.frame.DataFrame'>\n",
      "Int64Index: 10244 entries, 2 to 19434\n",
      "Data columns (total 37 columns):\n",
      " #   Column    Non-Null Count  Dtype \n",
      "---  ------    --------------  ----- \n",
      " 0   AGE       10244 non-null  int64 \n",
      " 1   SEX       10244 non-null  object\n",
      " 2   RCONSC    10244 non-null  object\n",
      " 3   RSBP      10244 non-null  int64 \n",
      " 4   RVISINF   10244 non-null  object\n",
      " 5   RDEF1     10244 non-null  object\n",
      " 6   RDEF2     10244 non-null  object\n",
      " 7   RDEF3     10244 non-null  object\n",
      " 8   RDEF4     10244 non-null  object\n",
      " 9   RDEF5     10244 non-null  object\n",
      " 10  RDEF6     10244 non-null  object\n",
      " 11  RDEF7     10244 non-null  object\n",
      " 12  RDEF8     10244 non-null  object\n",
      " 13  DDIAGISC  10244 non-null  object\n",
      " 14  DDIAGHA   10244 non-null  object\n",
      " 15  STYPE     10244 non-null  object\n",
      " 16  DPE       10244 non-null  object\n",
      " 17  DVT14     10244 non-null  int64 \n",
      " 18  DRSISC    10244 non-null  object\n",
      " 19  DRSH      10244 non-null  object\n",
      " 20  DASP14    10244 non-null  object\n",
      " 21  DOAC      10244 non-null  object\n",
      " 22  DGORM     10244 non-null  object\n",
      " 23  DMH14     10244 non-null  object\n",
      " 24  RHEP24    10244 non-null  object\n",
      " 25  RASP3     10244 non-null  object\n",
      " 26  FAP       10244 non-null  object\n",
      " 27  FOAC      10244 non-null  object\n",
      " 28  DASPLT    10244 non-null  object\n",
      " 29  FPLACE    10244 non-null  object\n",
      " 30  DHAEMD    10244 non-null  object\n",
      " 31  DCAREND   10244 non-null  object\n",
      " 32  DTHROMB   10244 non-null  object\n",
      " 33  OCCODE    10244 non-null  int64 \n",
      " 34  DALIVE    10244 non-null  object\n",
      " 35  CMPLASP   10244 non-null  object\n",
      " 36  CMPLHEP   10244 non-null  object\n",
      "dtypes: int64(4), object(33)\n",
      "memory usage: 3.0+ MB\n"
     ]
    }
   ],
   "source": [
    "data_selected.info()"
   ]
  },
  {
   "cell_type": "markdown",
   "id": "5ca0d3ac",
   "metadata": {},
   "source": [
    "# Second Cleaning\n",
    "* Replacing numerical values into human readable values"
   ]
  },
  {
   "cell_type": "code",
   "execution_count": 20,
   "id": "f7137e40",
   "metadata": {},
   "outputs": [],
   "source": [
    "# Selecting only those patients who have died after 14 days, recovered, not recovered, and dependent\n",
    "data_selected = data[(data['OCCODE'] > 0) & (data['OCCODE'] < 5)]"
   ]
  },
  {
   "cell_type": "code",
   "execution_count": 21,
   "id": "fae55489",
   "metadata": {},
   "outputs": [
    {
     "name": "stdout",
     "output_type": "stream",
     "text": [
      "['Dependent' 'Fully_Recovered' 'Not_recovered' 'Deceased']\n"
     ]
    }
   ],
   "source": [
    "# Replacing numerical value with equivalent string value\n",
    "data_selected.loc[data_selected[\"OCCODE\"] == 1, \"OCCODE\"] = 'Deceased'\n",
    "data_selected.loc[data_selected[\"OCCODE\"] == 2, \"OCCODE\"] = 'Dependent'\n",
    "data_selected.loc[data_selected[\"OCCODE\"] == 3, \"OCCODE\"] = 'Not_recovered'\n",
    "data_selected.loc[data_selected[\"OCCODE\"] == 4, \"OCCODE\"] = 'Fully_Recovered'\n",
    "print(data_selected['OCCODE'].unique())"
   ]
  },
  {
   "cell_type": "code",
   "execution_count": 22,
   "id": "0700ebcf",
   "metadata": {},
   "outputs": [
    {
     "name": "stdout",
     "output_type": "stream",
     "text": [
      "['Fully_Alert' 'Drowsy' 'Unconscious']\n"
     ]
    }
   ],
   "source": [
    "# Converting RCONSC code to human readable language || Replacing numerical value with equivalent string value\n",
    "data_selected.loc[data_selected[\"RCONSC\"] == 'F', \"RCONSC\"] = 'Fully_Alert'\n",
    "data_selected.loc[data_selected[\"RCONSC\"] == 'D', \"RCONSC\"] = 'Drowsy'\n",
    "data_selected.loc[data_selected[\"RCONSC\"] == 'U', \"RCONSC\"] = 'Unconscious'\n",
    "print(data_selected['RCONSC'].unique())"
   ]
  },
  {
   "cell_type": "code",
   "execution_count": 23,
   "id": "4a2af536",
   "metadata": {},
   "outputs": [
    {
     "name": "stdout",
     "output_type": "stream",
     "text": [
      "['Home' 'Other_Hospital_Dept' 'Residential_Care' 'Unknown' 'Nursing_Home'\n",
      " 'Relative_Home']\n"
     ]
    }
   ],
   "source": [
    "# Converting FPLACE code to human readable language || Replacing numerical value with equivalent string value\n",
    "data_selected.loc[data_selected[\"FPLACE\"] == 'A', \"FPLACE\"] = 'Home'\n",
    "data_selected.loc[data_selected[\"FPLACE\"] == 'B', \"FPLACE\"] = 'Relative_Home'\n",
    "data_selected.loc[data_selected[\"FPLACE\"] == 'C', \"FPLACE\"] = 'Residential_Care'\n",
    "data_selected.loc[data_selected[\"FPLACE\"] == 'D', \"FPLACE\"] = 'Nursing_Home'\n",
    "data_selected.loc[data_selected[\"FPLACE\"] == 'E', \"FPLACE\"] = 'Other_Hospital_Dept'\n",
    "data_selected.loc[data_selected[\"FPLACE\"] == 'U', \"FPLACE\"] = 'Unknown'\n",
    "print(data_selected['FPLACE'].unique())"
   ]
  },
  {
   "cell_type": "markdown",
   "id": "861519c5",
   "metadata": {},
   "source": [
    "# Third Cleaning\n",
    "* Checking unique values for each column\n",
    "* Replacing values to make data uniform e.g. u --> Unknown, N -- No, Y --> y"
   ]
  },
  {
   "cell_type": "code",
   "execution_count": 24,
   "id": "dac1eabb",
   "metadata": {},
   "outputs": [
    {
     "name": "stdout",
     "output_type": "stream",
     "text": [
      "SEX ['F' 'M']\n",
      "RCONSC ['Fully_Alert' 'Drowsy' 'Unconscious']\n",
      "RVISINF ['N' 'Y']\n",
      "RDEF1 ['Y' 'N' 'C']\n",
      "RDEF2 ['Y' 'N' 'C']\n",
      "RDEF3 ['Y' 'N' 'C']\n",
      "RDEF4 ['N' 'Y' 'C']\n",
      "RDEF5 ['N' 'Y' 'C']\n",
      "RDEF6 ['N' 'Y' 'C']\n",
      "RDEF7 ['N' 'Y' 'C']\n",
      "RDEF8 ['N' 'Y' 'C']\n",
      "DDIAGISC ['Y' 'u' 'N' 'U']\n",
      "DDIAGHA ['N' 'Y']\n",
      "STYPE ['LACS' 'PACS' 'OTH' 'POCS' 'TACS']\n",
      "DPE ['N' 'Y' 'U']\n",
      "DRSISC ['N' 'Y' 'U']\n",
      "DRSH ['N' 'Y' 'U']\n",
      "DASP14 ['Y' 'N' 'y' 'U']\n",
      "DOAC ['N' 'Y' 'U']\n",
      "DGORM ['N' 'Y' 'U']\n",
      "DMH14 ['N' 'Y' 'U']\n",
      "RHEP24 ['N' 'Y']\n",
      "RASP3 ['N' 'Y']\n",
      "FAP ['Unknown' 'U' 'Y' 'N']\n",
      "FOAC ['Unknown' 'U' 'N' 'Y']\n",
      "DASPLT ['Y' 'N' 'U']\n",
      "FPLACE ['Home' 'Other_Hospital_Dept' 'Residential_Care' 'Unknown' 'Nursing_Home'\n",
      " 'Relative_Home']\n",
      "DHAEMD ['N' 'Y' 'U']\n",
      "DCAREND ['N' 'Y' 'U']\n",
      "DTHROMB ['N' 'Y' 'U']\n",
      "OCCODE ['Dependent' 'Fully_Recovered' 'Not_recovered' 'Deceased']\n",
      "DALIVE ['Y']\n",
      "CMPLASP ['Y' 'N']\n",
      "CMPLHEP ['Y' 'N']\n"
     ]
    }
   ],
   "source": [
    "# Check values for each categorical varibles\n",
    "\n",
    "catcols = data_selected.select_dtypes(['object']).columns\n",
    "\n",
    "for col in catcols:\n",
    "    print (col, data_selected[col].unique())"
   ]
  },
  {
   "cell_type": "code",
   "execution_count": 25,
   "id": "898fef63",
   "metadata": {},
   "outputs": [],
   "source": [
    "# this will replace \"Y\" and 'N' with \"Yes\" and \"No\"\n",
    "data_selected = data_selected.replace(to_replace=['Y', 'N', 'y', 'u', 'U'], value=['Yes','No','Yes','Unknown','Unknown'])"
   ]
  },
  {
   "cell_type": "code",
   "execution_count": 26,
   "id": "47130053",
   "metadata": {},
   "outputs": [
    {
     "name": "stdout",
     "output_type": "stream",
     "text": [
      "SEX ['F' 'M']\n",
      "RCONSC ['Fully_Alert' 'Drowsy' 'Unconscious']\n",
      "RVISINF ['No' 'Yes']\n",
      "RDEF1 ['Yes' 'No' 'C']\n",
      "RDEF2 ['Yes' 'No' 'C']\n",
      "RDEF3 ['Yes' 'No' 'C']\n",
      "RDEF4 ['No' 'Yes' 'C']\n",
      "RDEF5 ['No' 'Yes' 'C']\n",
      "RDEF6 ['No' 'Yes' 'C']\n",
      "RDEF7 ['No' 'Yes' 'C']\n",
      "RDEF8 ['No' 'Yes' 'C']\n",
      "DDIAGISC ['Yes' 'Unknown' 'No']\n",
      "DDIAGHA ['No' 'Yes']\n",
      "STYPE ['LACS' 'PACS' 'OTH' 'POCS' 'TACS']\n",
      "DPE ['No' 'Yes' 'Unknown']\n",
      "DRSISC ['No' 'Yes' 'Unknown']\n",
      "DRSH ['No' 'Yes' 'Unknown']\n",
      "DASP14 ['Yes' 'No' 'Unknown']\n",
      "DOAC ['No' 'Yes' 'Unknown']\n",
      "DGORM ['No' 'Yes' 'Unknown']\n",
      "DMH14 ['No' 'Yes' 'Unknown']\n",
      "RHEP24 ['No' 'Yes']\n",
      "RASP3 ['No' 'Yes']\n",
      "FAP ['Unknown' 'Yes' 'No']\n",
      "FOAC ['Unknown' 'No' 'Yes']\n",
      "DASPLT ['Yes' 'No' 'Unknown']\n",
      "FPLACE ['Home' 'Other_Hospital_Dept' 'Residential_Care' 'Unknown' 'Nursing_Home'\n",
      " 'Relative_Home']\n",
      "DHAEMD ['No' 'Yes' 'Unknown']\n",
      "DCAREND ['No' 'Yes' 'Unknown']\n",
      "DTHROMB ['No' 'Yes' 'Unknown']\n",
      "OCCODE ['Dependent' 'Fully_Recovered' 'Not_recovered' 'Deceased']\n",
      "DALIVE ['Yes']\n",
      "CMPLASP ['Yes' 'No']\n",
      "CMPLHEP ['Yes' 'No']\n"
     ]
    }
   ],
   "source": [
    "# Check values for each categorical varibles\n",
    "\n",
    "catcols = data_selected.select_dtypes(['object']).columns\n",
    "\n",
    "for col in catcols:\n",
    "    print (col, data_selected[col].unique())"
   ]
  },
  {
   "cell_type": "code",
   "execution_count": 27,
   "id": "a1660f1e",
   "metadata": {},
   "outputs": [],
   "source": [
    "# create new categorical col for DVT14\n",
    "data_selected['DVT14'] = data_selected['DVT14'].map({0: 'No', 1: 'Yes'})\n",
    "# convert column to categorical column\n",
    "data_selected['DVT14'] = data_selected['DVT14'].astype('object')"
   ]
  },
  {
   "cell_type": "markdown",
   "id": "04a340d9",
   "metadata": {},
   "source": [
    "# Removing Unknown and Can't Assess rows"
   ]
  },
  {
   "cell_type": "code",
   "execution_count": 37,
   "id": "2e216270",
   "metadata": {},
   "outputs": [],
   "source": [
    "df = data_selected.copy()"
   ]
  },
  {
   "cell_type": "code",
   "execution_count": 38,
   "id": "32252c06",
   "metadata": {},
   "outputs": [],
   "source": [
    "numcols = df.select_dtypes(['int64']).columns\n",
    "df[numcols] = df[numcols].astype(str)\n",
    "df[catcols] =df[catcols].astype(str)\n",
    "\n",
    "df = df.drop(df[df.apply(lambda x: x.str.lower() == 'Unknown').any(axis=1)].index)\n",
    "df = df.drop(df[df.apply(lambda x: x.str.lower() == 'C').any(axis=1)].index)"
   ]
  },
  {
   "cell_type": "code",
   "execution_count": 39,
   "id": "9c24fb11",
   "metadata": {},
   "outputs": [
    {
     "name": "stdout",
     "output_type": "stream",
     "text": [
      "<class 'pandas.core.frame.DataFrame'>\n",
      "Int64Index: 10138 entries, 2 to 19434\n",
      "Data columns (total 37 columns):\n",
      " #   Column    Non-Null Count  Dtype \n",
      "---  ------    --------------  ----- \n",
      " 0   AGE       10138 non-null  object\n",
      " 1   SEX       10138 non-null  object\n",
      " 2   RCONSC    10138 non-null  object\n",
      " 3   RSBP      10138 non-null  object\n",
      " 4   RVISINF   10138 non-null  object\n",
      " 5   RDEF1     10138 non-null  object\n",
      " 6   RDEF2     10138 non-null  object\n",
      " 7   RDEF3     10138 non-null  object\n",
      " 8   RDEF4     10138 non-null  object\n",
      " 9   RDEF5     10138 non-null  object\n",
      " 10  RDEF6     10138 non-null  object\n",
      " 11  RDEF7     10138 non-null  object\n",
      " 12  RDEF8     10138 non-null  object\n",
      " 13  DDIAGISC  10138 non-null  object\n",
      " 14  DDIAGHA   10138 non-null  object\n",
      " 15  STYPE     10138 non-null  object\n",
      " 16  DPE       10138 non-null  object\n",
      " 17  DVT14     10138 non-null  object\n",
      " 18  DRSISC    10138 non-null  object\n",
      " 19  DRSH      10138 non-null  object\n",
      " 20  DASP14    10138 non-null  object\n",
      " 21  DOAC      10138 non-null  object\n",
      " 22  DGORM     10138 non-null  object\n",
      " 23  DMH14     10138 non-null  object\n",
      " 24  RHEP24    10138 non-null  object\n",
      " 25  RASP3     10138 non-null  object\n",
      " 26  FAP       10138 non-null  object\n",
      " 27  FOAC      10138 non-null  object\n",
      " 28  DASPLT    10138 non-null  object\n",
      " 29  FPLACE    10138 non-null  object\n",
      " 30  DHAEMD    10138 non-null  object\n",
      " 31  DCAREND   10138 non-null  object\n",
      " 32  DTHROMB   10138 non-null  object\n",
      " 33  OCCODE    10138 non-null  object\n",
      " 34  DALIVE    10138 non-null  object\n",
      " 35  CMPLASP   10138 non-null  object\n",
      " 36  CMPLHEP   10138 non-null  object\n",
      "dtypes: object(37)\n",
      "memory usage: 2.9+ MB\n"
     ]
    }
   ],
   "source": [
    "df.info()"
   ]
  },
  {
   "cell_type": "code",
   "execution_count": 40,
   "id": "220c6ad3",
   "metadata": {},
   "outputs": [
    {
     "name": "stdout",
     "output_type": "stream",
     "text": [
      "AGE ['71' '81' '54' '23' '47' '48' '45' '68' '63' '56' '57' '70' '64' '79'\n",
      " '75' '53' '67' '80' '59' '65' '60' '77' '66' '78' '76' '83' '73' '51'\n",
      " '55' '52' '62' '32' '72' '85' '87' '69' '49' '82' '74' '39' '58' '44'\n",
      " '61' '84' '43' '33' '46' '93' '86' '92' '30' '41' '34' '89' '95' '50'\n",
      " '99' '88' '38' '90' '91' '42' '36' '40' '37' '19' '28' '27' '35' '98'\n",
      " '94' '20' '29' '25' '96' '26' '31' '22' '24' '16']\n",
      "SEX ['F' 'M']\n",
      "RCONSC ['Fully_Alert' 'Drowsy' 'Unconscious']\n",
      "RSBP ['170' '135' '120' '150' '174' '160' '190' '118' '180' '140' '130' '145'\n",
      " '240' '165' '155' '200' '158' '110' '230' '175' '153' '142' '195' '220'\n",
      " '100' '148' '95' '204' '168' '194' '210' '136' '108' '205' '126' '185'\n",
      " '147' '188' '178' '176' '138' '115' '186' '193' '156' '125' '164' '199'\n",
      " '215' '203' '154' '212' '90' '250' '122' '169' '146' '157' '270' '107'\n",
      " '123' '128' '245' '172' '105' '119' '134' '197' '116' '137' '144' '124'\n",
      " '196' '225' '222' '202' '70' '98' '208' '161' '132' '80' '163' '103'\n",
      " '280' '173' '127' '181' '290' '221' '219' '121' '114' '162' '129' '117'\n",
      " '207' '182' '152' '166' '151' '141' '167' '238' '139' '159' '109' '143'\n",
      " '177' '183' '211' '131' '213' '171' '106' '216' '206' '198' '111' '260'\n",
      " '184' '149' '192' '201' '113' '191' '94' '187' '189' '179' '133' '246'\n",
      " '218' '247' '214' '209' '255' '276' '235' '112' '258' '71']\n",
      "RVISINF ['No' 'Yes']\n",
      "RDEF1 ['Yes' 'No' 'C']\n",
      "RDEF2 ['Yes' 'No' 'C']\n",
      "RDEF3 ['Yes' 'No' 'C']\n",
      "RDEF4 ['No' 'Yes' 'C']\n",
      "RDEF5 ['No' 'Yes' 'C']\n",
      "RDEF6 ['No' 'Yes' 'C']\n",
      "RDEF7 ['No' 'Yes' 'C']\n",
      "RDEF8 ['No' 'Yes' 'C']\n",
      "DDIAGISC ['Yes' 'Unknown' 'No']\n",
      "DDIAGHA ['No' 'Yes']\n",
      "STYPE ['LACS' 'PACS' 'OTH' 'POCS' 'TACS']\n",
      "DPE ['No' 'Yes' 'Unknown']\n",
      "DVT14 ['No' 'Yes']\n",
      "DRSISC ['No' 'Yes' 'Unknown']\n",
      "DRSH ['No' 'Yes' 'Unknown']\n",
      "DASP14 ['Yes' 'No' 'Unknown']\n",
      "DOAC ['No' 'Yes' 'Unknown']\n",
      "DGORM ['No' 'Yes' 'Unknown']\n",
      "DMH14 ['No' 'Yes' 'Unknown']\n",
      "RHEP24 ['No' 'Yes']\n",
      "RASP3 ['No' 'Yes']\n",
      "FAP ['Unknown' 'Yes' 'No']\n",
      "FOAC ['Unknown' 'No' 'Yes']\n",
      "DASPLT ['Yes' 'No' 'Unknown']\n",
      "FPLACE ['Home' 'Other_Hospital_Dept' 'Residential_Care' 'Unknown' 'Nursing_Home'\n",
      " 'Relative_Home']\n",
      "DHAEMD ['No' 'Yes' 'Unknown']\n",
      "DCAREND ['No' 'Yes' 'Unknown']\n",
      "DTHROMB ['No' 'Yes' 'Unknown']\n",
      "OCCODE ['Dependent' 'Fully_Recovered' 'Not_recovered' 'Deceased']\n",
      "DALIVE ['Yes']\n",
      "CMPLASP ['Yes' 'No']\n",
      "CMPLHEP ['Yes' 'No']\n"
     ]
    }
   ],
   "source": [
    "# Check values for each categorical varibles\n",
    "\n",
    "catcols = df.select_dtypes(['object']).columns\n",
    "\n",
    "for col in catcols:\n",
    "    print (col, df[col].unique())"
   ]
  },
  {
   "cell_type": "code",
   "execution_count": 41,
   "id": "26506b94",
   "metadata": {},
   "outputs": [
    {
     "data": {
      "image/png": "[encoded data removed]",
      "text/plain": [
       "<Figure size 864x432 with 2 Axes>"
      ]
     },
     "metadata": {},
     "output_type": "display_data"
    }
   ],
   "source": [
    "plt.figure(figsize = (12,6))\n",
    "sns.heatmap(data_selected.isnull().transpose())\n",
    "plt.show()"
   ]
  },
  {
   "cell_type": "code",
   "execution_count": 42,
   "id": "b5d69662",
   "metadata": {},
   "outputs": [],
   "source": [
    "# Early saving dataset without processing for data visualization of raw data\n",
    "data_selected.to_csv('dataset/Cleaned_data3.csv', index=False)"
   ]
  }
 ],
 "metadata": {
  "kernelspec": {
   "display_name": "Python 3 (ipykernel)",
   "language": "python",
   "name": "python3"
  },
  "language_info": {
   "codemirror_mode": {
    "name": "ipython",
    "version": 3
   },
   "file_extension": ".py",
   "mimetype": "text/x-python",
   "name": "python",
   "nbconvert_exporter": "python",
   "pygments_lexer": "ipython3",
   "version": "3.9.16"
  }
 },
 "nbformat": 4,
 "nbformat_minor": 5
}
